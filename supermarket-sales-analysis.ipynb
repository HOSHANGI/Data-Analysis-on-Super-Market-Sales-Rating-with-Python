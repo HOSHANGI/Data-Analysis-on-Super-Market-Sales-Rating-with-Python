{
 "cells": [
  {
   "cell_type": "markdown",
   "id": "1df0024f",
   "metadata": {
    "papermill": {
     "duration": 0.014097,
     "end_time": "2023-06-06T08:55:35.418033",
     "exception": false,
     "start_time": "2023-06-06T08:55:35.403936",
     "status": "completed"
    },
    "tags": []
   },
   "source": [
    "# # SuperMarket Sales Rating"
   ]
  },
  {
   "cell_type": "code",
   "execution_count": 1,
   "id": "2ceaeb21",
   "metadata": {
    "execution": {
     "iopub.execute_input": "2023-06-06T08:55:35.443085Z",
     "iopub.status.busy": "2023-06-06T08:55:35.441914Z",
     "iopub.status.idle": "2023-06-06T08:55:37.187824Z",
     "shell.execute_reply": "2023-06-06T08:55:37.186454Z"
    },
    "papermill": {
     "duration": 1.761403,
     "end_time": "2023-06-06T08:55:37.190804",
     "exception": false,
     "start_time": "2023-06-06T08:55:35.429401",
     "status": "completed"
    },
    "tags": []
   },
   "outputs": [],
   "source": [
    "import numpy as np\n",
    "import pandas as pd\n",
    "import matplotlib.pyplot as plt \n",
    "import seaborn as sns"
   ]
  },
  {
   "cell_type": "code",
   "execution_count": 2,
   "id": "27de5123",
   "metadata": {
    "execution": {
     "iopub.execute_input": "2023-06-06T08:55:37.215269Z",
     "iopub.status.busy": "2023-06-06T08:55:37.214874Z",
     "iopub.status.idle": "2023-06-06T08:55:37.291637Z",
     "shell.execute_reply": "2023-06-06T08:55:37.290494Z"
    },
    "papermill": {
     "duration": 0.092173,
     "end_time": "2023-06-06T08:55:37.294291",
     "exception": false,
     "start_time": "2023-06-06T08:55:37.202118",
     "status": "completed"
    },
    "tags": []
   },
   "outputs": [
    {
     "data": {
      "text/html": [
       "<div>\n",
       "<style scoped>\n",
       "    .dataframe tbody tr th:only-of-type {\n",
       "        vertical-align: middle;\n",
       "    }\n",
       "\n",
       "    .dataframe tbody tr th {\n",
       "        vertical-align: top;\n",
       "    }\n",
       "\n",
       "    .dataframe thead th {\n",
       "        text-align: right;\n",
       "    }\n",
       "</style>\n",
       "<table border=\"1\" class=\"dataframe\">\n",
       "  <thead>\n",
       "    <tr style=\"text-align: right;\">\n",
       "      <th></th>\n",
       "      <th>Invoice ID</th>\n",
       "      <th>Branch</th>\n",
       "      <th>City</th>\n",
       "      <th>Customer type</th>\n",
       "      <th>Gender</th>\n",
       "      <th>Product line</th>\n",
       "      <th>Unit price</th>\n",
       "      <th>Quantity</th>\n",
       "      <th>Tax 5%</th>\n",
       "      <th>Total</th>\n",
       "      <th>Date</th>\n",
       "      <th>Time</th>\n",
       "      <th>Payment</th>\n",
       "      <th>cogs</th>\n",
       "      <th>gross margin percentage</th>\n",
       "      <th>gross income</th>\n",
       "      <th>Rating</th>\n",
       "    </tr>\n",
       "  </thead>\n",
       "  <tbody>\n",
       "    <tr>\n",
       "      <th>0</th>\n",
       "      <td>750-67-8428</td>\n",
       "      <td>A</td>\n",
       "      <td>Yangon</td>\n",
       "      <td>Member</td>\n",
       "      <td>Female</td>\n",
       "      <td>Health and beauty</td>\n",
       "      <td>74.69</td>\n",
       "      <td>7</td>\n",
       "      <td>26.1415</td>\n",
       "      <td>548.9715</td>\n",
       "      <td>1/5/2019</td>\n",
       "      <td>13:08</td>\n",
       "      <td>Ewallet</td>\n",
       "      <td>522.83</td>\n",
       "      <td>4.761905</td>\n",
       "      <td>26.1415</td>\n",
       "      <td>9.1</td>\n",
       "    </tr>\n",
       "    <tr>\n",
       "      <th>1</th>\n",
       "      <td>226-31-3081</td>\n",
       "      <td>C</td>\n",
       "      <td>Naypyitaw</td>\n",
       "      <td>Normal</td>\n",
       "      <td>Female</td>\n",
       "      <td>Electronic accessories</td>\n",
       "      <td>15.28</td>\n",
       "      <td>5</td>\n",
       "      <td>3.8200</td>\n",
       "      <td>80.2200</td>\n",
       "      <td>3/8/2019</td>\n",
       "      <td>10:29</td>\n",
       "      <td>Cash</td>\n",
       "      <td>76.40</td>\n",
       "      <td>4.761905</td>\n",
       "      <td>3.8200</td>\n",
       "      <td>9.6</td>\n",
       "    </tr>\n",
       "    <tr>\n",
       "      <th>2</th>\n",
       "      <td>631-41-3108</td>\n",
       "      <td>A</td>\n",
       "      <td>Yangon</td>\n",
       "      <td>Normal</td>\n",
       "      <td>Male</td>\n",
       "      <td>Home and lifestyle</td>\n",
       "      <td>46.33</td>\n",
       "      <td>7</td>\n",
       "      <td>16.2155</td>\n",
       "      <td>340.5255</td>\n",
       "      <td>3/3/2019</td>\n",
       "      <td>13:23</td>\n",
       "      <td>Credit card</td>\n",
       "      <td>324.31</td>\n",
       "      <td>4.761905</td>\n",
       "      <td>16.2155</td>\n",
       "      <td>7.4</td>\n",
       "    </tr>\n",
       "    <tr>\n",
       "      <th>3</th>\n",
       "      <td>123-19-1176</td>\n",
       "      <td>A</td>\n",
       "      <td>Yangon</td>\n",
       "      <td>Member</td>\n",
       "      <td>Male</td>\n",
       "      <td>Health and beauty</td>\n",
       "      <td>58.22</td>\n",
       "      <td>8</td>\n",
       "      <td>23.2880</td>\n",
       "      <td>489.0480</td>\n",
       "      <td>1/27/2019</td>\n",
       "      <td>20:33</td>\n",
       "      <td>Ewallet</td>\n",
       "      <td>465.76</td>\n",
       "      <td>4.761905</td>\n",
       "      <td>23.2880</td>\n",
       "      <td>8.4</td>\n",
       "    </tr>\n",
       "    <tr>\n",
       "      <th>4</th>\n",
       "      <td>373-73-7910</td>\n",
       "      <td>A</td>\n",
       "      <td>Yangon</td>\n",
       "      <td>Normal</td>\n",
       "      <td>Male</td>\n",
       "      <td>Sports and travel</td>\n",
       "      <td>86.31</td>\n",
       "      <td>7</td>\n",
       "      <td>30.2085</td>\n",
       "      <td>634.3785</td>\n",
       "      <td>2/8/2019</td>\n",
       "      <td>10:37</td>\n",
       "      <td>Ewallet</td>\n",
       "      <td>604.17</td>\n",
       "      <td>4.761905</td>\n",
       "      <td>30.2085</td>\n",
       "      <td>5.3</td>\n",
       "    </tr>\n",
       "  </tbody>\n",
       "</table>\n",
       "</div>"
      ],
      "text/plain": [
       "    Invoice ID Branch       City Customer type  Gender  \\\n",
       "0  750-67-8428      A     Yangon        Member  Female   \n",
       "1  226-31-3081      C  Naypyitaw        Normal  Female   \n",
       "2  631-41-3108      A     Yangon        Normal    Male   \n",
       "3  123-19-1176      A     Yangon        Member    Male   \n",
       "4  373-73-7910      A     Yangon        Normal    Male   \n",
       "\n",
       "             Product line  Unit price  Quantity   Tax 5%     Total       Date  \\\n",
       "0       Health and beauty       74.69         7  26.1415  548.9715   1/5/2019   \n",
       "1  Electronic accessories       15.28         5   3.8200   80.2200   3/8/2019   \n",
       "2      Home and lifestyle       46.33         7  16.2155  340.5255   3/3/2019   \n",
       "3       Health and beauty       58.22         8  23.2880  489.0480  1/27/2019   \n",
       "4       Sports and travel       86.31         7  30.2085  634.3785   2/8/2019   \n",
       "\n",
       "    Time      Payment    cogs  gross margin percentage  gross income  Rating  \n",
       "0  13:08      Ewallet  522.83                 4.761905       26.1415     9.1  \n",
       "1  10:29         Cash   76.40                 4.761905        3.8200     9.6  \n",
       "2  13:23  Credit card  324.31                 4.761905       16.2155     7.4  \n",
       "3  20:33      Ewallet  465.76                 4.761905       23.2880     8.4  \n",
       "4  10:37      Ewallet  604.17                 4.761905       30.2085     5.3  "
      ]
     },
     "execution_count": 2,
     "metadata": {},
     "output_type": "execute_result"
    }
   ],
   "source": [
    "df = pd.read_csv('/kaggle/input/supermarket-sales/supermarket_sales - Sheet1.csv')\n",
    "df.head()"
   ]
  },
  {
   "cell_type": "code",
   "execution_count": 3,
   "id": "ae6375d6",
   "metadata": {
    "execution": {
     "iopub.execute_input": "2023-06-06T08:55:37.320258Z",
     "iopub.status.busy": "2023-06-06T08:55:37.319124Z",
     "iopub.status.idle": "2023-06-06T08:55:37.365837Z",
     "shell.execute_reply": "2023-06-06T08:55:37.364647Z"
    },
    "papermill": {
     "duration": 0.062514,
     "end_time": "2023-06-06T08:55:37.368428",
     "exception": false,
     "start_time": "2023-06-06T08:55:37.305914",
     "status": "completed"
    },
    "tags": []
   },
   "outputs": [
    {
     "data": {
      "text/html": [
       "<div>\n",
       "<style scoped>\n",
       "    .dataframe tbody tr th:only-of-type {\n",
       "        vertical-align: middle;\n",
       "    }\n",
       "\n",
       "    .dataframe tbody tr th {\n",
       "        vertical-align: top;\n",
       "    }\n",
       "\n",
       "    .dataframe thead th {\n",
       "        text-align: right;\n",
       "    }\n",
       "</style>\n",
       "<table border=\"1\" class=\"dataframe\">\n",
       "  <thead>\n",
       "    <tr style=\"text-align: right;\">\n",
       "      <th></th>\n",
       "      <th>Unit price</th>\n",
       "      <th>Quantity</th>\n",
       "      <th>Tax 5%</th>\n",
       "      <th>Total</th>\n",
       "      <th>cogs</th>\n",
       "      <th>gross margin percentage</th>\n",
       "      <th>gross income</th>\n",
       "      <th>Rating</th>\n",
       "    </tr>\n",
       "  </thead>\n",
       "  <tbody>\n",
       "    <tr>\n",
       "      <th>count</th>\n",
       "      <td>1000.000000</td>\n",
       "      <td>1000.000000</td>\n",
       "      <td>1000.000000</td>\n",
       "      <td>1000.000000</td>\n",
       "      <td>1000.00000</td>\n",
       "      <td>1000.000000</td>\n",
       "      <td>1000.000000</td>\n",
       "      <td>1000.00000</td>\n",
       "    </tr>\n",
       "    <tr>\n",
       "      <th>mean</th>\n",
       "      <td>55.672130</td>\n",
       "      <td>5.510000</td>\n",
       "      <td>15.379369</td>\n",
       "      <td>322.966749</td>\n",
       "      <td>307.58738</td>\n",
       "      <td>4.761905</td>\n",
       "      <td>15.379369</td>\n",
       "      <td>6.97270</td>\n",
       "    </tr>\n",
       "    <tr>\n",
       "      <th>std</th>\n",
       "      <td>26.494628</td>\n",
       "      <td>2.923431</td>\n",
       "      <td>11.708825</td>\n",
       "      <td>245.885335</td>\n",
       "      <td>234.17651</td>\n",
       "      <td>0.000000</td>\n",
       "      <td>11.708825</td>\n",
       "      <td>1.71858</td>\n",
       "    </tr>\n",
       "    <tr>\n",
       "      <th>min</th>\n",
       "      <td>10.080000</td>\n",
       "      <td>1.000000</td>\n",
       "      <td>0.508500</td>\n",
       "      <td>10.678500</td>\n",
       "      <td>10.17000</td>\n",
       "      <td>4.761905</td>\n",
       "      <td>0.508500</td>\n",
       "      <td>4.00000</td>\n",
       "    </tr>\n",
       "    <tr>\n",
       "      <th>25%</th>\n",
       "      <td>32.875000</td>\n",
       "      <td>3.000000</td>\n",
       "      <td>5.924875</td>\n",
       "      <td>124.422375</td>\n",
       "      <td>118.49750</td>\n",
       "      <td>4.761905</td>\n",
       "      <td>5.924875</td>\n",
       "      <td>5.50000</td>\n",
       "    </tr>\n",
       "    <tr>\n",
       "      <th>50%</th>\n",
       "      <td>55.230000</td>\n",
       "      <td>5.000000</td>\n",
       "      <td>12.088000</td>\n",
       "      <td>253.848000</td>\n",
       "      <td>241.76000</td>\n",
       "      <td>4.761905</td>\n",
       "      <td>12.088000</td>\n",
       "      <td>7.00000</td>\n",
       "    </tr>\n",
       "    <tr>\n",
       "      <th>75%</th>\n",
       "      <td>77.935000</td>\n",
       "      <td>8.000000</td>\n",
       "      <td>22.445250</td>\n",
       "      <td>471.350250</td>\n",
       "      <td>448.90500</td>\n",
       "      <td>4.761905</td>\n",
       "      <td>22.445250</td>\n",
       "      <td>8.50000</td>\n",
       "    </tr>\n",
       "    <tr>\n",
       "      <th>max</th>\n",
       "      <td>99.960000</td>\n",
       "      <td>10.000000</td>\n",
       "      <td>49.650000</td>\n",
       "      <td>1042.650000</td>\n",
       "      <td>993.00000</td>\n",
       "      <td>4.761905</td>\n",
       "      <td>49.650000</td>\n",
       "      <td>10.00000</td>\n",
       "    </tr>\n",
       "  </tbody>\n",
       "</table>\n",
       "</div>"
      ],
      "text/plain": [
       "        Unit price     Quantity       Tax 5%        Total        cogs  \\\n",
       "count  1000.000000  1000.000000  1000.000000  1000.000000  1000.00000   \n",
       "mean     55.672130     5.510000    15.379369   322.966749   307.58738   \n",
       "std      26.494628     2.923431    11.708825   245.885335   234.17651   \n",
       "min      10.080000     1.000000     0.508500    10.678500    10.17000   \n",
       "25%      32.875000     3.000000     5.924875   124.422375   118.49750   \n",
       "50%      55.230000     5.000000    12.088000   253.848000   241.76000   \n",
       "75%      77.935000     8.000000    22.445250   471.350250   448.90500   \n",
       "max      99.960000    10.000000    49.650000  1042.650000   993.00000   \n",
       "\n",
       "       gross margin percentage  gross income      Rating  \n",
       "count              1000.000000   1000.000000  1000.00000  \n",
       "mean                  4.761905     15.379369     6.97270  \n",
       "std                   0.000000     11.708825     1.71858  \n",
       "min                   4.761905      0.508500     4.00000  \n",
       "25%                   4.761905      5.924875     5.50000  \n",
       "50%                   4.761905     12.088000     7.00000  \n",
       "75%                   4.761905     22.445250     8.50000  \n",
       "max                   4.761905     49.650000    10.00000  "
      ]
     },
     "execution_count": 3,
     "metadata": {},
     "output_type": "execute_result"
    }
   ],
   "source": [
    "df.describe()"
   ]
  },
  {
   "cell_type": "code",
   "execution_count": 4,
   "id": "79f5ab3b",
   "metadata": {
    "execution": {
     "iopub.execute_input": "2023-06-06T08:55:37.394296Z",
     "iopub.status.busy": "2023-06-06T08:55:37.393878Z",
     "iopub.status.idle": "2023-06-06T08:55:37.423627Z",
     "shell.execute_reply": "2023-06-06T08:55:37.421820Z"
    },
    "papermill": {
     "duration": 0.045917,
     "end_time": "2023-06-06T08:55:37.426354",
     "exception": false,
     "start_time": "2023-06-06T08:55:37.380437",
     "status": "completed"
    },
    "tags": []
   },
   "outputs": [
    {
     "name": "stdout",
     "output_type": "stream",
     "text": [
      "<class 'pandas.core.frame.DataFrame'>\n",
      "RangeIndex: 1000 entries, 0 to 999\n",
      "Data columns (total 17 columns):\n",
      " #   Column                   Non-Null Count  Dtype  \n",
      "---  ------                   --------------  -----  \n",
      " 0   Invoice ID               1000 non-null   object \n",
      " 1   Branch                   1000 non-null   object \n",
      " 2   City                     1000 non-null   object \n",
      " 3   Customer type            1000 non-null   object \n",
      " 4   Gender                   1000 non-null   object \n",
      " 5   Product line             1000 non-null   object \n",
      " 6   Unit price               1000 non-null   float64\n",
      " 7   Quantity                 1000 non-null   int64  \n",
      " 8   Tax 5%                   1000 non-null   float64\n",
      " 9   Total                    1000 non-null   float64\n",
      " 10  Date                     1000 non-null   object \n",
      " 11  Time                     1000 non-null   object \n",
      " 12  Payment                  1000 non-null   object \n",
      " 13  cogs                     1000 non-null   float64\n",
      " 14  gross margin percentage  1000 non-null   float64\n",
      " 15  gross income             1000 non-null   float64\n",
      " 16  Rating                   1000 non-null   float64\n",
      "dtypes: float64(7), int64(1), object(9)\n",
      "memory usage: 132.9+ KB\n"
     ]
    }
   ],
   "source": [
    "df.info()"
   ]
  },
  {
   "cell_type": "code",
   "execution_count": 5,
   "id": "3affc64e",
   "metadata": {
    "execution": {
     "iopub.execute_input": "2023-06-06T08:55:37.452777Z",
     "iopub.status.busy": "2023-06-06T08:55:37.451809Z",
     "iopub.status.idle": "2023-06-06T08:55:37.463121Z",
     "shell.execute_reply": "2023-06-06T08:55:37.462301Z"
    },
    "papermill": {
     "duration": 0.026981,
     "end_time": "2023-06-06T08:55:37.465361",
     "exception": false,
     "start_time": "2023-06-06T08:55:37.438380",
     "status": "completed"
    },
    "tags": []
   },
   "outputs": [
    {
     "data": {
      "text/plain": [
       "Invoice ID                 0\n",
       "Branch                     0\n",
       "City                       0\n",
       "Customer type              0\n",
       "Gender                     0\n",
       "Product line               0\n",
       "Unit price                 0\n",
       "Quantity                   0\n",
       "Tax 5%                     0\n",
       "Total                      0\n",
       "Date                       0\n",
       "Time                       0\n",
       "Payment                    0\n",
       "cogs                       0\n",
       "gross margin percentage    0\n",
       "gross income               0\n",
       "Rating                     0\n",
       "dtype: int64"
      ]
     },
     "execution_count": 5,
     "metadata": {},
     "output_type": "execute_result"
    }
   ],
   "source": [
    "df.isnull().sum()"
   ]
  },
  {
   "cell_type": "code",
   "execution_count": 6,
   "id": "d5e623a4",
   "metadata": {
    "execution": {
     "iopub.execute_input": "2023-06-06T08:55:37.491882Z",
     "iopub.status.busy": "2023-06-06T08:55:37.491424Z",
     "iopub.status.idle": "2023-06-06T08:55:37.499160Z",
     "shell.execute_reply": "2023-06-06T08:55:37.497920Z"
    },
    "papermill": {
     "duration": 0.023732,
     "end_time": "2023-06-06T08:55:37.501554",
     "exception": false,
     "start_time": "2023-06-06T08:55:37.477822",
     "status": "completed"
    },
    "tags": []
   },
   "outputs": [],
   "source": [
    "df = df.drop(['Invoice ID', 'Date','Time'], axis = 1)"
   ]
  },
  {
   "cell_type": "code",
   "execution_count": 7,
   "id": "da426977",
   "metadata": {
    "execution": {
     "iopub.execute_input": "2023-06-06T08:55:37.528595Z",
     "iopub.status.busy": "2023-06-06T08:55:37.528212Z",
     "iopub.status.idle": "2023-06-06T08:55:37.536080Z",
     "shell.execute_reply": "2023-06-06T08:55:37.534803Z"
    },
    "papermill": {
     "duration": 0.02393,
     "end_time": "2023-06-06T08:55:37.538446",
     "exception": false,
     "start_time": "2023-06-06T08:55:37.514516",
     "status": "completed"
    },
    "tags": []
   },
   "outputs": [
    {
     "data": {
      "text/plain": [
       "array([4.76190476])"
      ]
     },
     "execution_count": 7,
     "metadata": {},
     "output_type": "execute_result"
    }
   ],
   "source": [
    "df['gross margin percentage'].unique()"
   ]
  },
  {
   "cell_type": "code",
   "execution_count": 8,
   "id": "90737739",
   "metadata": {
    "execution": {
     "iopub.execute_input": "2023-06-06T08:55:37.565393Z",
     "iopub.status.busy": "2023-06-06T08:55:37.564992Z",
     "iopub.status.idle": "2023-06-06T08:55:37.571534Z",
     "shell.execute_reply": "2023-06-06T08:55:37.570236Z"
    },
    "papermill": {
     "duration": 0.023336,
     "end_time": "2023-06-06T08:55:37.574298",
     "exception": false,
     "start_time": "2023-06-06T08:55:37.550962",
     "status": "completed"
    },
    "tags": []
   },
   "outputs": [],
   "source": [
    "df = df.drop(['gross margin percentage'], axis = 1)"
   ]
  },
  {
   "cell_type": "code",
   "execution_count": 9,
   "id": "c59847e3",
   "metadata": {
    "execution": {
     "iopub.execute_input": "2023-06-06T08:55:37.600880Z",
     "iopub.status.busy": "2023-06-06T08:55:37.600492Z",
     "iopub.status.idle": "2023-06-06T08:55:37.621237Z",
     "shell.execute_reply": "2023-06-06T08:55:37.620131Z"
    },
    "papermill": {
     "duration": 0.036955,
     "end_time": "2023-06-06T08:55:37.623622",
     "exception": false,
     "start_time": "2023-06-06T08:55:37.586667",
     "status": "completed"
    },
    "tags": []
   },
   "outputs": [
    {
     "data": {
      "text/html": [
       "<div>\n",
       "<style scoped>\n",
       "    .dataframe tbody tr th:only-of-type {\n",
       "        vertical-align: middle;\n",
       "    }\n",
       "\n",
       "    .dataframe tbody tr th {\n",
       "        vertical-align: top;\n",
       "    }\n",
       "\n",
       "    .dataframe thead th {\n",
       "        text-align: right;\n",
       "    }\n",
       "</style>\n",
       "<table border=\"1\" class=\"dataframe\">\n",
       "  <thead>\n",
       "    <tr style=\"text-align: right;\">\n",
       "      <th></th>\n",
       "      <th>Branch</th>\n",
       "      <th>City</th>\n",
       "      <th>Customer type</th>\n",
       "      <th>Gender</th>\n",
       "      <th>Product line</th>\n",
       "      <th>Unit price</th>\n",
       "      <th>Quantity</th>\n",
       "      <th>Tax 5%</th>\n",
       "      <th>Total</th>\n",
       "      <th>Payment</th>\n",
       "      <th>cogs</th>\n",
       "      <th>gross income</th>\n",
       "      <th>Rating</th>\n",
       "    </tr>\n",
       "  </thead>\n",
       "  <tbody>\n",
       "    <tr>\n",
       "      <th>0</th>\n",
       "      <td>A</td>\n",
       "      <td>Yangon</td>\n",
       "      <td>Member</td>\n",
       "      <td>Female</td>\n",
       "      <td>Health and beauty</td>\n",
       "      <td>74.69</td>\n",
       "      <td>7</td>\n",
       "      <td>26.1415</td>\n",
       "      <td>548.9715</td>\n",
       "      <td>Ewallet</td>\n",
       "      <td>522.83</td>\n",
       "      <td>26.1415</td>\n",
       "      <td>9.1</td>\n",
       "    </tr>\n",
       "    <tr>\n",
       "      <th>1</th>\n",
       "      <td>C</td>\n",
       "      <td>Naypyitaw</td>\n",
       "      <td>Normal</td>\n",
       "      <td>Female</td>\n",
       "      <td>Electronic accessories</td>\n",
       "      <td>15.28</td>\n",
       "      <td>5</td>\n",
       "      <td>3.8200</td>\n",
       "      <td>80.2200</td>\n",
       "      <td>Cash</td>\n",
       "      <td>76.40</td>\n",
       "      <td>3.8200</td>\n",
       "      <td>9.6</td>\n",
       "    </tr>\n",
       "    <tr>\n",
       "      <th>2</th>\n",
       "      <td>A</td>\n",
       "      <td>Yangon</td>\n",
       "      <td>Normal</td>\n",
       "      <td>Male</td>\n",
       "      <td>Home and lifestyle</td>\n",
       "      <td>46.33</td>\n",
       "      <td>7</td>\n",
       "      <td>16.2155</td>\n",
       "      <td>340.5255</td>\n",
       "      <td>Credit card</td>\n",
       "      <td>324.31</td>\n",
       "      <td>16.2155</td>\n",
       "      <td>7.4</td>\n",
       "    </tr>\n",
       "    <tr>\n",
       "      <th>3</th>\n",
       "      <td>A</td>\n",
       "      <td>Yangon</td>\n",
       "      <td>Member</td>\n",
       "      <td>Male</td>\n",
       "      <td>Health and beauty</td>\n",
       "      <td>58.22</td>\n",
       "      <td>8</td>\n",
       "      <td>23.2880</td>\n",
       "      <td>489.0480</td>\n",
       "      <td>Ewallet</td>\n",
       "      <td>465.76</td>\n",
       "      <td>23.2880</td>\n",
       "      <td>8.4</td>\n",
       "    </tr>\n",
       "    <tr>\n",
       "      <th>4</th>\n",
       "      <td>A</td>\n",
       "      <td>Yangon</td>\n",
       "      <td>Normal</td>\n",
       "      <td>Male</td>\n",
       "      <td>Sports and travel</td>\n",
       "      <td>86.31</td>\n",
       "      <td>7</td>\n",
       "      <td>30.2085</td>\n",
       "      <td>634.3785</td>\n",
       "      <td>Ewallet</td>\n",
       "      <td>604.17</td>\n",
       "      <td>30.2085</td>\n",
       "      <td>5.3</td>\n",
       "    </tr>\n",
       "  </tbody>\n",
       "</table>\n",
       "</div>"
      ],
      "text/plain": [
       "  Branch       City Customer type  Gender            Product line  Unit price  \\\n",
       "0      A     Yangon        Member  Female       Health and beauty       74.69   \n",
       "1      C  Naypyitaw        Normal  Female  Electronic accessories       15.28   \n",
       "2      A     Yangon        Normal    Male      Home and lifestyle       46.33   \n",
       "3      A     Yangon        Member    Male       Health and beauty       58.22   \n",
       "4      A     Yangon        Normal    Male       Sports and travel       86.31   \n",
       "\n",
       "   Quantity   Tax 5%     Total      Payment    cogs  gross income  Rating  \n",
       "0         7  26.1415  548.9715      Ewallet  522.83       26.1415     9.1  \n",
       "1         5   3.8200   80.2200         Cash   76.40        3.8200     9.6  \n",
       "2         7  16.2155  340.5255  Credit card  324.31       16.2155     7.4  \n",
       "3         8  23.2880  489.0480      Ewallet  465.76       23.2880     8.4  \n",
       "4         7  30.2085  634.3785      Ewallet  604.17       30.2085     5.3  "
      ]
     },
     "execution_count": 9,
     "metadata": {},
     "output_type": "execute_result"
    }
   ],
   "source": [
    "df.head()"
   ]
  },
  {
   "cell_type": "markdown",
   "id": "cb1a12be",
   "metadata": {
    "papermill": {
     "duration": 0.01292,
     "end_time": "2023-06-06T08:55:37.649960",
     "exception": false,
     "start_time": "2023-06-06T08:55:37.637040",
     "status": "completed"
    },
    "tags": []
   },
   "source": [
    "# #  Data Visualization\n",
    "\n",
    "# ******Count of Females and Males"
   ]
  },
  {
   "cell_type": "code",
   "execution_count": 10,
   "id": "9476cd0b",
   "metadata": {
    "execution": {
     "iopub.execute_input": "2023-06-06T08:55:37.677022Z",
     "iopub.status.busy": "2023-06-06T08:55:37.676616Z",
     "iopub.status.idle": "2023-06-06T08:55:37.686636Z",
     "shell.execute_reply": "2023-06-06T08:55:37.685268Z"
    },
    "papermill": {
     "duration": 0.02635,
     "end_time": "2023-06-06T08:55:37.689078",
     "exception": false,
     "start_time": "2023-06-06T08:55:37.662728",
     "status": "completed"
    },
    "tags": []
   },
   "outputs": [
    {
     "name": "stdout",
     "output_type": "stream",
     "text": [
      "(1000, 13)\n"
     ]
    },
    {
     "data": {
      "text/plain": [
       "Female    501\n",
       "Male      499\n",
       "Name: Gender, dtype: int64"
      ]
     },
     "execution_count": 10,
     "metadata": {},
     "output_type": "execute_result"
    }
   ],
   "source": [
    "print(df.shape)\n",
    "df['Gender'].value_counts()"
   ]
  },
  {
   "cell_type": "code",
   "execution_count": 11,
   "id": "c4cfb12d",
   "metadata": {
    "execution": {
     "iopub.execute_input": "2023-06-06T08:55:37.723113Z",
     "iopub.status.busy": "2023-06-06T08:55:37.722674Z",
     "iopub.status.idle": "2023-06-06T08:55:37.998574Z",
     "shell.execute_reply": "2023-06-06T08:55:37.997380Z"
    },
    "papermill": {
     "duration": 0.295183,
     "end_time": "2023-06-06T08:55:38.001337",
     "exception": false,
     "start_time": "2023-06-06T08:55:37.706154",
     "status": "completed"
    },
    "tags": []
   },
   "outputs": [
    {
     "data": {
      "text/plain": [
       "<Axes: xlabel='Gender', ylabel='count'>"
      ]
     },
     "execution_count": 11,
     "metadata": {},
     "output_type": "execute_result"
    },
    {
     "data": {
      "image/png": "[encoded data removed]",
      "text/plain": [
       "<Figure size 640x480 with 1 Axes>"
      ]
     },
     "metadata": {},
     "output_type": "display_data"
    }
   ],
   "source": [
    "sns.countplot(x = 'Gender' , data = df)"
   ]
  },
  {
   "cell_type": "markdown",
   "id": "5e0d1d82",
   "metadata": {
    "papermill": {
     "duration": 0.01343,
     "end_time": "2023-06-06T08:55:38.028874",
     "exception": false,
     "start_time": "2023-06-06T08:55:38.015444",
     "status": "completed"
    },
    "tags": []
   },
   "source": [
    "# ****Creating dummies for Gender column to get numeric data for seaborn bar plot"
   ]
  },
  {
   "cell_type": "code",
   "execution_count": 12,
   "id": "9f47ff77",
   "metadata": {
    "execution": {
     "iopub.execute_input": "2023-06-06T08:55:38.058773Z",
     "iopub.status.busy": "2023-06-06T08:55:38.057497Z",
     "iopub.status.idle": "2023-06-06T08:55:38.071327Z",
     "shell.execute_reply": "2023-06-06T08:55:38.070275Z"
    },
    "papermill": {
     "duration": 0.030844,
     "end_time": "2023-06-06T08:55:38.073881",
     "exception": false,
     "start_time": "2023-06-06T08:55:38.043037",
     "status": "completed"
    },
    "tags": []
   },
   "outputs": [
    {
     "data": {
      "text/html": [
       "<div>\n",
       "<style scoped>\n",
       "    .dataframe tbody tr th:only-of-type {\n",
       "        vertical-align: middle;\n",
       "    }\n",
       "\n",
       "    .dataframe tbody tr th {\n",
       "        vertical-align: top;\n",
       "    }\n",
       "\n",
       "    .dataframe thead th {\n",
       "        text-align: right;\n",
       "    }\n",
       "</style>\n",
       "<table border=\"1\" class=\"dataframe\">\n",
       "  <thead>\n",
       "    <tr style=\"text-align: right;\">\n",
       "      <th></th>\n",
       "      <th>Female</th>\n",
       "      <th>Male</th>\n",
       "    </tr>\n",
       "  </thead>\n",
       "  <tbody>\n",
       "    <tr>\n",
       "      <th>0</th>\n",
       "      <td>1</td>\n",
       "      <td>0</td>\n",
       "    </tr>\n",
       "    <tr>\n",
       "      <th>1</th>\n",
       "      <td>1</td>\n",
       "      <td>0</td>\n",
       "    </tr>\n",
       "    <tr>\n",
       "      <th>2</th>\n",
       "      <td>0</td>\n",
       "      <td>1</td>\n",
       "    </tr>\n",
       "    <tr>\n",
       "      <th>3</th>\n",
       "      <td>0</td>\n",
       "      <td>1</td>\n",
       "    </tr>\n",
       "    <tr>\n",
       "      <th>4</th>\n",
       "      <td>0</td>\n",
       "      <td>1</td>\n",
       "    </tr>\n",
       "  </tbody>\n",
       "</table>\n",
       "</div>"
      ],
      "text/plain": [
       "   Female  Male\n",
       "0       1     0\n",
       "1       1     0\n",
       "2       0     1\n",
       "3       0     1\n",
       "4       0     1"
      ]
     },
     "execution_count": 12,
     "metadata": {},
     "output_type": "execute_result"
    }
   ],
   "source": [
    "gender_dummies  = pd.get_dummies(df['Gender'])\n",
    "gender_dummies.head()"
   ]
  },
  {
   "cell_type": "markdown",
   "id": "30e51fdb",
   "metadata": {
    "papermill": {
     "duration": 0.013207,
     "end_time": "2023-06-06T08:55:38.100857",
     "exception": false,
     "start_time": "2023-06-06T08:55:38.087650",
     "status": "completed"
    },
    "tags": []
   },
   "source": [
    "# ****Joining original data frame (df) with gender dummies data frame (gender_dummies)"
   ]
  },
  {
   "cell_type": "code",
   "execution_count": 13,
   "id": "08c6113b",
   "metadata": {
    "execution": {
     "iopub.execute_input": "2023-06-06T08:55:38.130766Z",
     "iopub.status.busy": "2023-06-06T08:55:38.129983Z",
     "iopub.status.idle": "2023-06-06T08:55:38.157818Z",
     "shell.execute_reply": "2023-06-06T08:55:38.156775Z"
    },
    "papermill": {
     "duration": 0.045857,
     "end_time": "2023-06-06T08:55:38.160306",
     "exception": false,
     "start_time": "2023-06-06T08:55:38.114449",
     "status": "completed"
    },
    "tags": []
   },
   "outputs": [
    {
     "data": {
      "text/html": [
       "<div>\n",
       "<style scoped>\n",
       "    .dataframe tbody tr th:only-of-type {\n",
       "        vertical-align: middle;\n",
       "    }\n",
       "\n",
       "    .dataframe tbody tr th {\n",
       "        vertical-align: top;\n",
       "    }\n",
       "\n",
       "    .dataframe thead th {\n",
       "        text-align: right;\n",
       "    }\n",
       "</style>\n",
       "<table border=\"1\" class=\"dataframe\">\n",
       "  <thead>\n",
       "    <tr style=\"text-align: right;\">\n",
       "      <th></th>\n",
       "      <th>Branch</th>\n",
       "      <th>City</th>\n",
       "      <th>Customer type</th>\n",
       "      <th>Gender</th>\n",
       "      <th>Product line</th>\n",
       "      <th>Unit price</th>\n",
       "      <th>Quantity</th>\n",
       "      <th>Tax 5%</th>\n",
       "      <th>Total</th>\n",
       "      <th>Payment</th>\n",
       "      <th>cogs</th>\n",
       "      <th>gross income</th>\n",
       "      <th>Rating</th>\n",
       "      <th>Female</th>\n",
       "      <th>Male</th>\n",
       "    </tr>\n",
       "  </thead>\n",
       "  <tbody>\n",
       "    <tr>\n",
       "      <th>0</th>\n",
       "      <td>A</td>\n",
       "      <td>Yangon</td>\n",
       "      <td>Member</td>\n",
       "      <td>Female</td>\n",
       "      <td>Health and beauty</td>\n",
       "      <td>74.69</td>\n",
       "      <td>7</td>\n",
       "      <td>26.1415</td>\n",
       "      <td>548.9715</td>\n",
       "      <td>Ewallet</td>\n",
       "      <td>522.83</td>\n",
       "      <td>26.1415</td>\n",
       "      <td>9.1</td>\n",
       "      <td>1</td>\n",
       "      <td>0</td>\n",
       "    </tr>\n",
       "    <tr>\n",
       "      <th>1</th>\n",
       "      <td>C</td>\n",
       "      <td>Naypyitaw</td>\n",
       "      <td>Normal</td>\n",
       "      <td>Female</td>\n",
       "      <td>Electronic accessories</td>\n",
       "      <td>15.28</td>\n",
       "      <td>5</td>\n",
       "      <td>3.8200</td>\n",
       "      <td>80.2200</td>\n",
       "      <td>Cash</td>\n",
       "      <td>76.40</td>\n",
       "      <td>3.8200</td>\n",
       "      <td>9.6</td>\n",
       "      <td>1</td>\n",
       "      <td>0</td>\n",
       "    </tr>\n",
       "    <tr>\n",
       "      <th>2</th>\n",
       "      <td>A</td>\n",
       "      <td>Yangon</td>\n",
       "      <td>Normal</td>\n",
       "      <td>Male</td>\n",
       "      <td>Home and lifestyle</td>\n",
       "      <td>46.33</td>\n",
       "      <td>7</td>\n",
       "      <td>16.2155</td>\n",
       "      <td>340.5255</td>\n",
       "      <td>Credit card</td>\n",
       "      <td>324.31</td>\n",
       "      <td>16.2155</td>\n",
       "      <td>7.4</td>\n",
       "      <td>0</td>\n",
       "      <td>1</td>\n",
       "    </tr>\n",
       "    <tr>\n",
       "      <th>3</th>\n",
       "      <td>A</td>\n",
       "      <td>Yangon</td>\n",
       "      <td>Member</td>\n",
       "      <td>Male</td>\n",
       "      <td>Health and beauty</td>\n",
       "      <td>58.22</td>\n",
       "      <td>8</td>\n",
       "      <td>23.2880</td>\n",
       "      <td>489.0480</td>\n",
       "      <td>Ewallet</td>\n",
       "      <td>465.76</td>\n",
       "      <td>23.2880</td>\n",
       "      <td>8.4</td>\n",
       "      <td>0</td>\n",
       "      <td>1</td>\n",
       "    </tr>\n",
       "    <tr>\n",
       "      <th>4</th>\n",
       "      <td>A</td>\n",
       "      <td>Yangon</td>\n",
       "      <td>Normal</td>\n",
       "      <td>Male</td>\n",
       "      <td>Sports and travel</td>\n",
       "      <td>86.31</td>\n",
       "      <td>7</td>\n",
       "      <td>30.2085</td>\n",
       "      <td>634.3785</td>\n",
       "      <td>Ewallet</td>\n",
       "      <td>604.17</td>\n",
       "      <td>30.2085</td>\n",
       "      <td>5.3</td>\n",
       "      <td>0</td>\n",
       "      <td>1</td>\n",
       "    </tr>\n",
       "  </tbody>\n",
       "</table>\n",
       "</div>"
      ],
      "text/plain": [
       "  Branch       City Customer type  Gender            Product line  Unit price  \\\n",
       "0      A     Yangon        Member  Female       Health and beauty       74.69   \n",
       "1      C  Naypyitaw        Normal  Female  Electronic accessories       15.28   \n",
       "2      A     Yangon        Normal    Male      Home and lifestyle       46.33   \n",
       "3      A     Yangon        Member    Male       Health and beauty       58.22   \n",
       "4      A     Yangon        Normal    Male       Sports and travel       86.31   \n",
       "\n",
       "   Quantity   Tax 5%     Total      Payment    cogs  gross income  Rating  \\\n",
       "0         7  26.1415  548.9715      Ewallet  522.83       26.1415     9.1   \n",
       "1         5   3.8200   80.2200         Cash   76.40        3.8200     9.6   \n",
       "2         7  16.2155  340.5255  Credit card  324.31       16.2155     7.4   \n",
       "3         8  23.2880  489.0480      Ewallet  465.76       23.2880     8.4   \n",
       "4         7  30.2085  634.3785      Ewallet  604.17       30.2085     5.3   \n",
       "\n",
       "   Female  Male  \n",
       "0       1     0  \n",
       "1       1     0  \n",
       "2       0     1  \n",
       "3       0     1  \n",
       "4       0     1  "
      ]
     },
     "execution_count": 13,
     "metadata": {},
     "output_type": "execute_result"
    }
   ],
   "source": [
    "df = pd.concat([df, gender_dummies], axis = 1)\n",
    "df.head()"
   ]
  },
  {
   "cell_type": "markdown",
   "id": "2aef9693",
   "metadata": {
    "papermill": {
     "duration": 0.014464,
     "end_time": "2023-06-06T08:55:38.188967",
     "exception": false,
     "start_time": "2023-06-06T08:55:38.174503",
     "status": "completed"
    },
    "tags": []
   },
   "source": [
    "# ****For Female"
   ]
  },
  {
   "cell_type": "code",
   "execution_count": 14,
   "id": "a6645559",
   "metadata": {
    "execution": {
     "iopub.execute_input": "2023-06-06T08:55:38.219831Z",
     "iopub.status.busy": "2023-06-06T08:55:38.218566Z",
     "iopub.status.idle": "2023-06-06T08:55:38.770230Z",
     "shell.execute_reply": "2023-06-06T08:55:38.769093Z"
    },
    "papermill": {
     "duration": 0.569183,
     "end_time": "2023-06-06T08:55:38.772648",
     "exception": false,
     "start_time": "2023-06-06T08:55:38.203465",
     "status": "completed"
    },
    "tags": []
   },
   "outputs": [
    {
     "data": {
      "text/plain": [
       "<Axes: xlabel='Product line', ylabel='Female'>"
      ]
     },
     "execution_count": 14,
     "metadata": {},
     "output_type": "execute_result"
    },
    {
     "data": {
      "image/png": "[encoded data removed]",
      "text/plain": [
       "<Figure size 1200x600 with 1 Axes>"
      ]
     },
     "metadata": {},
     "output_type": "display_data"
    }
   ],
   "source": [
    "plt.figure(figsize = (12,6))\n",
    "sns.barplot(x = 'Product line', y = 'Female', data = df)"
   ]
  },
  {
   "cell_type": "markdown",
   "id": "08fb264d",
   "metadata": {
    "papermill": {
     "duration": 0.015217,
     "end_time": "2023-06-06T08:55:38.802351",
     "exception": false,
     "start_time": "2023-06-06T08:55:38.787134",
     "status": "completed"
    },
    "tags": []
   },
   "source": [
    "# ****For Male"
   ]
  },
  {
   "cell_type": "code",
   "execution_count": 15,
   "id": "1a67fbeb",
   "metadata": {
    "execution": {
     "iopub.execute_input": "2023-06-06T08:55:38.835229Z",
     "iopub.status.busy": "2023-06-06T08:55:38.832932Z",
     "iopub.status.idle": "2023-06-06T08:55:39.376385Z",
     "shell.execute_reply": "2023-06-06T08:55:39.375224Z"
    },
    "papermill": {
     "duration": 0.562742,
     "end_time": "2023-06-06T08:55:39.379719",
     "exception": false,
     "start_time": "2023-06-06T08:55:38.816977",
     "status": "completed"
    },
    "tags": []
   },
   "outputs": [
    {
     "data": {
      "text/plain": [
       "<Axes: xlabel='Product line', ylabel='Male'>"
      ]
     },
     "execution_count": 15,
     "metadata": {},
     "output_type": "execute_result"
    },
    {
     "data": {
      "image/png": "[encoded data removed]",
      "text/plain": [
       "<Figure size 1200x600 with 1 Axes>"
      ]
     },
     "metadata": {},
     "output_type": "display_data"
    }
   ],
   "source": [
    "plt.figure(figsize = (12,6))\n",
    "sns.barplot(x = 'Product line', y = 'Male', data = df)"
   ]
  },
  {
   "cell_type": "markdown",
   "id": "1ea4d8f1",
   "metadata": {
    "papermill": {
     "duration": 0.014452,
     "end_time": "2023-06-06T08:55:39.409711",
     "exception": false,
     "start_time": "2023-06-06T08:55:39.395259",
     "status": "completed"
    },
    "tags": []
   },
   "source": [
    "# ****Plotting for Customers as per city"
   ]
  },
  {
   "cell_type": "code",
   "execution_count": 16,
   "id": "be15e955",
   "metadata": {
    "execution": {
     "iopub.execute_input": "2023-06-06T08:55:39.441855Z",
     "iopub.status.busy": "2023-06-06T08:55:39.440849Z",
     "iopub.status.idle": "2023-06-06T08:55:39.450905Z",
     "shell.execute_reply": "2023-06-06T08:55:39.450015Z"
    },
    "papermill": {
     "duration": 0.028556,
     "end_time": "2023-06-06T08:55:39.453200",
     "exception": false,
     "start_time": "2023-06-06T08:55:39.424644",
     "status": "completed"
    },
    "tags": []
   },
   "outputs": [
    {
     "data": {
      "text/html": [
       "<div>\n",
       "<style scoped>\n",
       "    .dataframe tbody tr th:only-of-type {\n",
       "        vertical-align: middle;\n",
       "    }\n",
       "\n",
       "    .dataframe tbody tr th {\n",
       "        vertical-align: top;\n",
       "    }\n",
       "\n",
       "    .dataframe thead th {\n",
       "        text-align: right;\n",
       "    }\n",
       "</style>\n",
       "<table border=\"1\" class=\"dataframe\">\n",
       "  <thead>\n",
       "    <tr style=\"text-align: right;\">\n",
       "      <th></th>\n",
       "      <th>City</th>\n",
       "    </tr>\n",
       "  </thead>\n",
       "  <tbody>\n",
       "    <tr>\n",
       "      <th>Yangon</th>\n",
       "      <td>340</td>\n",
       "    </tr>\n",
       "    <tr>\n",
       "      <th>Mandalay</th>\n",
       "      <td>332</td>\n",
       "    </tr>\n",
       "    <tr>\n",
       "      <th>Naypyitaw</th>\n",
       "      <td>328</td>\n",
       "    </tr>\n",
       "  </tbody>\n",
       "</table>\n",
       "</div>"
      ],
      "text/plain": [
       "           City\n",
       "Yangon      340\n",
       "Mandalay    332\n",
       "Naypyitaw   328"
      ]
     },
     "execution_count": 16,
     "metadata": {},
     "output_type": "execute_result"
    }
   ],
   "source": [
    "place_df = pd.DataFrame(df['City'].value_counts())\n",
    "place_df"
   ]
  },
  {
   "cell_type": "code",
   "execution_count": 17,
   "id": "8af48ed4",
   "metadata": {
    "execution": {
     "iopub.execute_input": "2023-06-06T08:55:39.485905Z",
     "iopub.status.busy": "2023-06-06T08:55:39.485198Z",
     "iopub.status.idle": "2023-06-06T08:55:39.738876Z",
     "shell.execute_reply": "2023-06-06T08:55:39.737752Z"
    },
    "papermill": {
     "duration": 0.272712,
     "end_time": "2023-06-06T08:55:39.741311",
     "exception": false,
     "start_time": "2023-06-06T08:55:39.468599",
     "status": "completed"
    },
    "tags": []
   },
   "outputs": [
    {
     "data": {
      "text/plain": [
       "<Axes: ylabel='City'>"
      ]
     },
     "execution_count": 17,
     "metadata": {},
     "output_type": "execute_result"
    },
    {
     "data": {
      "image/png": "[encoded data removed]",
      "text/plain": [
       "<Figure size 640x480 with 1 Axes>"
      ]
     },
     "metadata": {},
     "output_type": "display_data"
    }
   ],
   "source": [
    "sns.barplot(x = place_df.index  , y = place_df['City'], palette = 'hot')"
   ]
  },
  {
   "cell_type": "markdown",
   "id": "b52a3976",
   "metadata": {
    "papermill": {
     "duration": 0.015637,
     "end_time": "2023-06-06T08:55:39.772880",
     "exception": false,
     "start_time": "2023-06-06T08:55:39.757243",
     "status": "completed"
    },
    "tags": []
   },
   "source": [
    "# ****Plotting for different payment methods count"
   ]
  },
  {
   "cell_type": "code",
   "execution_count": 18,
   "id": "5b9dc81e",
   "metadata": {
    "execution": {
     "iopub.execute_input": "2023-06-06T08:55:39.806104Z",
     "iopub.status.busy": "2023-06-06T08:55:39.805682Z",
     "iopub.status.idle": "2023-06-06T08:55:39.816934Z",
     "shell.execute_reply": "2023-06-06T08:55:39.815722Z"
    },
    "papermill": {
     "duration": 0.030674,
     "end_time": "2023-06-06T08:55:39.819195",
     "exception": false,
     "start_time": "2023-06-06T08:55:39.788521",
     "status": "completed"
    },
    "tags": []
   },
   "outputs": [
    {
     "data": {
      "text/html": [
       "<div>\n",
       "<style scoped>\n",
       "    .dataframe tbody tr th:only-of-type {\n",
       "        vertical-align: middle;\n",
       "    }\n",
       "\n",
       "    .dataframe tbody tr th {\n",
       "        vertical-align: top;\n",
       "    }\n",
       "\n",
       "    .dataframe thead th {\n",
       "        text-align: right;\n",
       "    }\n",
       "</style>\n",
       "<table border=\"1\" class=\"dataframe\">\n",
       "  <thead>\n",
       "    <tr style=\"text-align: right;\">\n",
       "      <th></th>\n",
       "      <th>Payment</th>\n",
       "    </tr>\n",
       "  </thead>\n",
       "  <tbody>\n",
       "    <tr>\n",
       "      <th>Ewallet</th>\n",
       "      <td>345</td>\n",
       "    </tr>\n",
       "    <tr>\n",
       "      <th>Cash</th>\n",
       "      <td>344</td>\n",
       "    </tr>\n",
       "    <tr>\n",
       "      <th>Credit card</th>\n",
       "      <td>311</td>\n",
       "    </tr>\n",
       "  </tbody>\n",
       "</table>\n",
       "</div>"
      ],
      "text/plain": [
       "             Payment\n",
       "Ewallet          345\n",
       "Cash             344\n",
       "Credit card      311"
      ]
     },
     "execution_count": 18,
     "metadata": {},
     "output_type": "execute_result"
    }
   ],
   "source": [
    "payment_df = pd.DataFrame(df['Payment'].value_counts())\n",
    "payment_df"
   ]
  },
  {
   "cell_type": "code",
   "execution_count": 19,
   "id": "03311dde",
   "metadata": {
    "execution": {
     "iopub.execute_input": "2023-06-06T08:55:39.853478Z",
     "iopub.status.busy": "2023-06-06T08:55:39.853024Z",
     "iopub.status.idle": "2023-06-06T08:55:40.106083Z",
     "shell.execute_reply": "2023-06-06T08:55:40.104893Z"
    },
    "papermill": {
     "duration": 0.27319,
     "end_time": "2023-06-06T08:55:40.108491",
     "exception": false,
     "start_time": "2023-06-06T08:55:39.835301",
     "status": "completed"
    },
    "tags": []
   },
   "outputs": [
    {
     "data": {
      "text/plain": [
       "<Axes: ylabel='Payment'>"
      ]
     },
     "execution_count": 19,
     "metadata": {},
     "output_type": "execute_result"
    },
    {
     "data": {
      "image/png": "[encoded data removed]",
      "text/plain": [
       "<Figure size 640x480 with 1 Axes>"
      ]
     },
     "metadata": {},
     "output_type": "display_data"
    }
   ],
   "source": [
    "sns.barplot(x =payment_df.index , y = payment_df.Payment)"
   ]
  },
  {
   "cell_type": "markdown",
   "id": "30893822",
   "metadata": {
    "papermill": {
     "duration": 0.015983,
     "end_time": "2023-06-06T08:55:40.140841",
     "exception": false,
     "start_time": "2023-06-06T08:55:40.124858",
     "status": "completed"
    },
    "tags": []
   },
   "source": [
    "# ****Getting Gross Income Plot for each product line"
   ]
  },
  {
   "cell_type": "code",
   "execution_count": 20,
   "id": "ca9c492d",
   "metadata": {
    "execution": {
     "iopub.execute_input": "2023-06-06T08:55:40.175728Z",
     "iopub.status.busy": "2023-06-06T08:55:40.175317Z",
     "iopub.status.idle": "2023-06-06T08:55:40.714842Z",
     "shell.execute_reply": "2023-06-06T08:55:40.713503Z"
    },
    "papermill": {
     "duration": 0.560246,
     "end_time": "2023-06-06T08:55:40.717765",
     "exception": false,
     "start_time": "2023-06-06T08:55:40.157519",
     "status": "completed"
    },
    "tags": []
   },
   "outputs": [
    {
     "data": {
      "text/plain": [
       "<Axes: xlabel='Product line', ylabel='gross income'>"
      ]
     },
     "execution_count": 20,
     "metadata": {},
     "output_type": "execute_result"
    },
    {
     "data": {
      "image/png": "[encoded data removed]",
      "text/plain": [
       "<Figure size 1200x600 with 1 Axes>"
      ]
     },
     "metadata": {},
     "output_type": "display_data"
    }
   ],
   "source": [
    "plt.figure(figsize= (12,6))\n",
    "sns.barplot(x = df['Product line'], y = df['gross income'])"
   ]
  },
  {
   "cell_type": "markdown",
   "id": "9ee8695a",
   "metadata": {
    "papermill": {
     "duration": 0.016783,
     "end_time": "2023-06-06T08:55:40.752398",
     "exception": false,
     "start_time": "2023-06-06T08:55:40.735615",
     "status": "completed"
    },
    "tags": []
   },
   "source": [
    "# ****Get Rating Plot for each product line"
   ]
  },
  {
   "cell_type": "code",
   "execution_count": 21,
   "id": "f5a679d2",
   "metadata": {
    "execution": {
     "iopub.execute_input": "2023-06-06T08:55:40.788868Z",
     "iopub.status.busy": "2023-06-06T08:55:40.788187Z",
     "iopub.status.idle": "2023-06-06T08:55:41.332350Z",
     "shell.execute_reply": "2023-06-06T08:55:41.331135Z"
    },
    "papermill": {
     "duration": 0.565475,
     "end_time": "2023-06-06T08:55:41.335022",
     "exception": false,
     "start_time": "2023-06-06T08:55:40.769547",
     "status": "completed"
    },
    "tags": []
   },
   "outputs": [
    {
     "data": {
      "text/plain": [
       "([<matplotlib.axis.XTick at 0x7d0f8f566560>,\n",
       "  <matplotlib.axis.XTick at 0x7d0f8f566530>,\n",
       "  <matplotlib.axis.XTick at 0x7d0f8f566440>,\n",
       "  <matplotlib.axis.XTick at 0x7d0f8f3b5f30>,\n",
       "  <matplotlib.axis.XTick at 0x7d0f8f3b69e0>,\n",
       "  <matplotlib.axis.XTick at 0x7d0f8f565240>,\n",
       "  <matplotlib.axis.XTick at 0x7d0f8f3b5450>,\n",
       "  <matplotlib.axis.XTick at 0x7d0f8f3b7ca0>,\n",
       "  <matplotlib.axis.XTick at 0x7d0f8f3d4790>,\n",
       "  <matplotlib.axis.XTick at 0x7d0f8f3d5240>,\n",
       "  <matplotlib.axis.XTick at 0x7d0f8f3b65c0>],\n",
       " [Text(0, 0, '0'),\n",
       "  Text(1, 0, '1'),\n",
       "  Text(2, 0, '2'),\n",
       "  Text(3, 0, '3'),\n",
       "  Text(4, 0, '4'),\n",
       "  Text(5, 0, '5'),\n",
       "  Text(6, 0, '6'),\n",
       "  Text(7, 0, '7'),\n",
       "  Text(8, 0, '8'),\n",
       "  Text(9, 0, '9'),\n",
       "  Text(10, 0, '10')])"
      ]
     },
     "execution_count": 21,
     "metadata": {},
     "output_type": "execute_result"
    },
    {
     "data": {
      "image/png": "[encoded data removed]",
      "text/plain": [
       "<Figure size 1200x600 with 1 Axes>"
      ]
     },
     "metadata": {},
     "output_type": "display_data"
    }
   ],
   "source": [
    "xdata = [0,1,2,3,4,5,6,7,8,9,10]\n",
    "plt.figure(figsize = (12,6))\n",
    "sns.barplot(y = df['Product line'], x = df['Rating'])\n",
    "plt.xticks(xdata)"
   ]
  },
  {
   "cell_type": "markdown",
   "id": "62dab608",
   "metadata": {
    "papermill": {
     "duration": 0.017507,
     "end_time": "2023-06-06T08:55:41.370628",
     "exception": false,
     "start_time": "2023-06-06T08:55:41.353121",
     "status": "completed"
    },
    "tags": []
   },
   "source": [
    "# ****Total bill in each product line"
   ]
  },
  {
   "cell_type": "code",
   "execution_count": 22,
   "id": "874c56e9",
   "metadata": {
    "execution": {
     "iopub.execute_input": "2023-06-06T08:55:41.408213Z",
     "iopub.status.busy": "2023-06-06T08:55:41.407820Z",
     "iopub.status.idle": "2023-06-06T08:55:41.947360Z",
     "shell.execute_reply": "2023-06-06T08:55:41.945219Z"
    },
    "papermill": {
     "duration": 0.561765,
     "end_time": "2023-06-06T08:55:41.950158",
     "exception": false,
     "start_time": "2023-06-06T08:55:41.388393",
     "status": "completed"
    },
    "tags": []
   },
   "outputs": [
    {
     "data": {
      "text/plain": [
       "<Axes: xlabel='Total', ylabel='Product line'>"
      ]
     },
     "execution_count": 22,
     "metadata": {},
     "output_type": "execute_result"
    },
    {
     "data": {
      "image/png": "[encoded data removed]",
      "text/plain": [
       "<Figure size 1200x600 with 1 Axes>"
      ]
     },
     "metadata": {},
     "output_type": "display_data"
    }
   ],
   "source": [
    "plt.figure(figsize = (12,6))\n",
    "sns.barplot(x = df['Total'] , y = df['Product line'])"
   ]
  },
  {
   "cell_type": "markdown",
   "id": "d80bd0d3",
   "metadata": {
    "papermill": {
     "duration": 0.017968,
     "end_time": "2023-06-06T08:55:41.986644",
     "exception": false,
     "start_time": "2023-06-06T08:55:41.968676",
     "status": "completed"
    },
    "tags": []
   },
   "source": [
    "# ****Exploring Quantity Column"
   ]
  },
  {
   "cell_type": "code",
   "execution_count": 23,
   "id": "07ae5dea",
   "metadata": {
    "execution": {
     "iopub.execute_input": "2023-06-06T08:55:42.026479Z",
     "iopub.status.busy": "2023-06-06T08:55:42.024389Z",
     "iopub.status.idle": "2023-06-06T08:55:42.459433Z",
     "shell.execute_reply": "2023-06-06T08:55:42.458327Z"
    },
    "papermill": {
     "duration": 0.457194,
     "end_time": "2023-06-06T08:55:42.461991",
     "exception": false,
     "start_time": "2023-06-06T08:55:42.004797",
     "status": "completed"
    },
    "tags": []
   },
   "outputs": [
    {
     "name": "stderr",
     "output_type": "stream",
     "text": [
      "/tmp/ipykernel_20/4224586582.py:3: UserWarning: \n",
      "\n",
      "`distplot` is a deprecated function and will be removed in seaborn v0.14.0.\n",
      "\n",
      "Please adapt your code to use either `displot` (a figure-level function with\n",
      "similar flexibility) or `histplot` (an axes-level function for histograms).\n",
      "\n",
      "For a guide to updating your code to use the new functions, please see\n",
      "https://gist.github.com/mwaskom/de44147ed2974457ad6372750bbe5751\n",
      "\n",
      "  sns.distplot(df['Quantity'])\n"
     ]
    },
    {
     "data": {
      "text/plain": [
       "([<matplotlib.axis.XTick at 0x7d0f8f4844f0>,\n",
       "  <matplotlib.axis.XTick at 0x7d0f8f4844c0>,\n",
       "  <matplotlib.axis.XTick at 0x7d0f8f2be2f0>,\n",
       "  <matplotlib.axis.XTick at 0x7d0f8f2be8c0>,\n",
       "  <matplotlib.axis.XTick at 0x7d0f8f2bf370>,\n",
       "  <matplotlib.axis.XTick at 0x7d0f8f2bf8b0>,\n",
       "  <matplotlib.axis.XTick at 0x7d0f8f3043d0>,\n",
       "  <matplotlib.axis.XTick at 0x7d0f8f304e80>,\n",
       "  <matplotlib.axis.XTick at 0x7d0f8f305930>,\n",
       "  <matplotlib.axis.XTick at 0x7d0f8f46bc40>],\n",
       " [Text(1, 0, '1'),\n",
       "  Text(2, 0, '2'),\n",
       "  Text(3, 0, '3'),\n",
       "  Text(4, 0, '4'),\n",
       "  Text(5, 0, '5'),\n",
       "  Text(6, 0, '6'),\n",
       "  Text(7, 0, '7'),\n",
       "  Text(8, 0, '8'),\n",
       "  Text(9, 0, '9'),\n",
       "  Text(10, 0, '10')])"
      ]
     },
     "execution_count": 23,
     "metadata": {},
     "output_type": "execute_result"
    },
    {
     "data": {
      "image/png": "[encoded data removed]",
      "text/plain": [
       "<Figure size 1200x600 with 1 Axes>"
      ]
     },
     "metadata": {},
     "output_type": "display_data"
    }
   ],
   "source": [
    "xdata = [1,2,3,4,5,6,7,8,9,10]\n",
    "plt.figure(figsize = (12,6))\n",
    "sns.distplot(df['Quantity'])\n",
    "plt.xticks(xdata)"
   ]
  },
  {
   "cell_type": "code",
   "execution_count": 24,
   "id": "994b827f",
   "metadata": {
    "execution": {
     "iopub.execute_input": "2023-06-06T08:55:42.504096Z",
     "iopub.status.busy": "2023-06-06T08:55:42.503274Z",
     "iopub.status.idle": "2023-06-06T08:55:42.514366Z",
     "shell.execute_reply": "2023-06-06T08:55:42.513298Z"
    },
    "papermill": {
     "duration": 0.034138,
     "end_time": "2023-06-06T08:55:42.516783",
     "exception": false,
     "start_time": "2023-06-06T08:55:42.482645",
     "status": "completed"
    },
    "tags": []
   },
   "outputs": [
    {
     "data": {
      "text/html": [
       "<div>\n",
       "<style scoped>\n",
       "    .dataframe tbody tr th:only-of-type {\n",
       "        vertical-align: middle;\n",
       "    }\n",
       "\n",
       "    .dataframe tbody tr th {\n",
       "        vertical-align: top;\n",
       "    }\n",
       "\n",
       "    .dataframe thead th {\n",
       "        text-align: right;\n",
       "    }\n",
       "</style>\n",
       "<table border=\"1\" class=\"dataframe\">\n",
       "  <thead>\n",
       "    <tr style=\"text-align: right;\">\n",
       "      <th></th>\n",
       "      <th>Quantity</th>\n",
       "    </tr>\n",
       "  </thead>\n",
       "  <tbody>\n",
       "    <tr>\n",
       "      <th>10</th>\n",
       "      <td>119</td>\n",
       "    </tr>\n",
       "    <tr>\n",
       "      <th>1</th>\n",
       "      <td>112</td>\n",
       "    </tr>\n",
       "    <tr>\n",
       "      <th>4</th>\n",
       "      <td>109</td>\n",
       "    </tr>\n",
       "    <tr>\n",
       "      <th>7</th>\n",
       "      <td>102</td>\n",
       "    </tr>\n",
       "    <tr>\n",
       "      <th>5</th>\n",
       "      <td>102</td>\n",
       "    </tr>\n",
       "    <tr>\n",
       "      <th>6</th>\n",
       "      <td>98</td>\n",
       "    </tr>\n",
       "    <tr>\n",
       "      <th>9</th>\n",
       "      <td>92</td>\n",
       "    </tr>\n",
       "    <tr>\n",
       "      <th>2</th>\n",
       "      <td>91</td>\n",
       "    </tr>\n",
       "    <tr>\n",
       "      <th>3</th>\n",
       "      <td>90</td>\n",
       "    </tr>\n",
       "    <tr>\n",
       "      <th>8</th>\n",
       "      <td>85</td>\n",
       "    </tr>\n",
       "  </tbody>\n",
       "</table>\n",
       "</div>"
      ],
      "text/plain": [
       "    Quantity\n",
       "10       119\n",
       "1        112\n",
       "4        109\n",
       "7        102\n",
       "5        102\n",
       "6         98\n",
       "9         92\n",
       "2         91\n",
       "3         90\n",
       "8         85"
      ]
     },
     "execution_count": 24,
     "metadata": {},
     "output_type": "execute_result"
    }
   ],
   "source": [
    "quantity_df = pd.DataFrame(df['Quantity'].value_counts())\n",
    "quantity_df"
   ]
  },
  {
   "cell_type": "code",
   "execution_count": 25,
   "id": "5ce9995d",
   "metadata": {
    "execution": {
     "iopub.execute_input": "2023-06-06T08:55:42.557261Z",
     "iopub.status.busy": "2023-06-06T08:55:42.556881Z",
     "iopub.status.idle": "2023-06-06T08:55:42.910294Z",
     "shell.execute_reply": "2023-06-06T08:55:42.909027Z"
    },
    "papermill": {
     "duration": 0.376771,
     "end_time": "2023-06-06T08:55:42.912809",
     "exception": false,
     "start_time": "2023-06-06T08:55:42.536038",
     "status": "completed"
    },
    "tags": []
   },
   "outputs": [
    {
     "data": {
      "text/plain": [
       "<Axes: ylabel='Quantity'>"
      ]
     },
     "execution_count": 25,
     "metadata": {},
     "output_type": "execute_result"
    },
    {
     "data": {
      "image/png": "[encoded data removed]",
      "text/plain": [
       "<Figure size 1200x600 with 1 Axes>"
      ]
     },
     "metadata": {},
     "output_type": "display_data"
    }
   ],
   "source": [
    "plt.figure(figsize=(12,6))\n",
    "sns.barplot(x = quantity_df.index , y = quantity_df['Quantity'] , palette = 'inferno')"
   ]
  },
  {
   "cell_type": "markdown",
   "id": "38fbada6",
   "metadata": {
    "papermill": {
     "duration": 0.020128,
     "end_time": "2023-06-06T08:55:42.953737",
     "exception": false,
     "start_time": "2023-06-06T08:55:42.933609",
     "status": "completed"
    },
    "tags": []
   },
   "source": [
    "# ****Plotting heatmap to check if any correlation between columns"
   ]
  },
  {
   "cell_type": "code",
   "execution_count": 26,
   "id": "89563b8a",
   "metadata": {
    "execution": {
     "iopub.execute_input": "2023-06-06T08:55:42.996306Z",
     "iopub.status.busy": "2023-06-06T08:55:42.995923Z",
     "iopub.status.idle": "2023-06-06T08:55:43.464351Z",
     "shell.execute_reply": "2023-06-06T08:55:43.463209Z"
    },
    "papermill": {
     "duration": 0.492667,
     "end_time": "2023-06-06T08:55:43.466800",
     "exception": false,
     "start_time": "2023-06-06T08:55:42.974133",
     "status": "completed"
    },
    "tags": []
   },
   "outputs": [
    {
     "name": "stderr",
     "output_type": "stream",
     "text": [
      "/tmp/ipykernel_20/58359773.py:1: FutureWarning: The default value of numeric_only in DataFrame.corr is deprecated. In a future version, it will default to False. Select only valid columns or specify the value of numeric_only to silence this warning.\n",
      "  sns.heatmap(df.corr())\n"
     ]
    },
    {
     "data": {
      "text/plain": [
       "<Axes: >"
      ]
     },
     "execution_count": 26,
     "metadata": {},
     "output_type": "execute_result"
    },
    {
     "data": {
      "image/png": "[encoded data removed]",
      "text/plain": [
       "<Figure size 640x480 with 2 Axes>"
      ]
     },
     "metadata": {},
     "output_type": "display_data"
    }
   ],
   "source": [
    "sns.heatmap(df.corr())"
   ]
  },
  {
   "cell_type": "markdown",
   "id": "77cc7316",
   "metadata": {
    "papermill": {
     "duration": 0.020757,
     "end_time": "2023-06-06T08:55:43.508490",
     "exception": false,
     "start_time": "2023-06-06T08:55:43.487733",
     "status": "completed"
    },
    "tags": []
   },
   "source": [
    "# Inference from the Analysis\n",
    "\n",
    "> * Total Customers = 1000\n",
    "> * Total Females = 501\n",
    "> *Total Males = 499\n",
    "> *Min Rating = 4\n",
    "> *Max Rating = 10\n",
    "> *Average Rating = 6.97\n",
    "> *Best Average Rating in Food & Beverages\n",
    "> *Max Average Gross Income in Home & Lifestyle\n",
    "> *Min Average Gross Income in Fashion Accessories\n",
    "> *Maximum customers buys 10 quantities\n",
    "> *Max Average total bill in Home and lifestyle\n",
    "> *Min Average total bill in Fashion Accessories\n",
    "> *Maximum People pays through e-wallet\n",
    "> *Maximum people comes from Yangon City\n",
    "> *Max Average Sales of Fashion Accessories is from Females\n",
    "> *Max Average Sales of Health & Beauty is from Males"
   ]
  }
 ],
 "metadata": {
  "kernelspec": {
   "display_name": "Python 3",
   "language": "python",
   "name": "python3"
  },
  "language_info": {
   "codemirror_mode": {
    "name": "ipython",
    "version": 3
   },
   "file_extension": ".py",
   "mimetype": "text/x-python",
   "name": "python",
   "nbconvert_exporter": "python",
   "pygments_lexer": "ipython3",
   "version": "3.10.10"
  },
  "papermill": {
   "default_parameters": {},
   "duration": 21.686085,
   "end_time": "2023-06-06T08:55:44.552171",
   "environment_variables": {},
   "exception": null,
   "input_path": "__notebook__.ipynb",
   "output_path": "__notebook__.ipynb",
   "parameters": {},
   "start_time": "2023-06-06T08:55:22.866086",
   "version": "2.4.0"
  }
 },
 "nbformat": 4,
 "nbformat_minor": 5
}
